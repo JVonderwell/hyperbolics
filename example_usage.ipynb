{
 "cells": [
  {
   "cell_type": "markdown",
   "metadata": {},
   "source": [
    "Reading in relational data and converting to k-partite graph format"
   ]
  },
  {
   "cell_type": "code",
   "execution_count": 1,
   "metadata": {},
   "outputs": [],
   "source": [
    "from graph_converter.converter import Converter"
   ]
  },
  {
   "cell_type": "code",
   "execution_count": 2,
   "metadata": {},
   "outputs": [],
   "source": [
    "## changing relational data to graph structure\n",
    "\n",
    "# input locations\n",
    "data_file = 'data/inputs/hospital_dataset.csv'\n",
    "fd_file = 'data/constraints/hospital_constraints.txt'\n",
    "\n",
    "# output locations\n",
    "edges_file = 'data/edges/hospital.edges'\n",
    "map_file = 'data/maps/hospital.map'\n",
    "\n",
    "converter = Converter()\n",
    "\n",
    "converter.save_graph(data_file, fd_file, edges_file, map_file)\n",
    "\n",
    "# maps (value, attr) pairs to integer values. need ints in the embedding to distinguish between identical values in different columns\n",
    "graph_map = converter.get_map()"
   ]
  },
  {
   "cell_type": "markdown",
   "metadata": {},
   "source": [
    "Need to run the following lines in docker to perform the embedding itself\n",
    "\n",
    "julia combinatorial/comb.jl -d data/edges/hospital.edges -m hospital.r3.emb -e 1.0 -p 64 -r 3 -a -s\n",
    "\n",
    "python pytorch/pytorch_hyperbolic.py learn data/edgeshospital.edges --batch-size 64 -r 3 -l 5.0 --epochs 100 --checkpoint-freq 10 -w hospital.r3.emb"
   ]
  },
  {
   "cell_type": "markdown",
   "metadata": {},
   "source": [
    "Using that embedding, can calculate pair wise distances between tuples. Right now, just using the average distance between each node"
   ]
  },
  {
   "cell_type": "code",
   "execution_count": 3,
   "metadata": {},
   "outputs": [
    {
     "data": {
      "text/plain": [
       "0.0"
      ]
     },
     "execution_count": 3,
     "metadata": {},
     "output_type": "execute_result"
    }
   ],
   "source": [
    "from distances.distances import HypDistance\n",
    "\n",
    "hyp_dist = HypDistance('hospital.r3.emb', graph_map)\n",
    "hyp_dist.pair_distance_file('distances/tuples/same.csv')"
   ]
  },
  {
   "cell_type": "code",
   "execution_count": null,
   "metadata": {},
   "outputs": [],
   "source": []
  }
 ],
 "metadata": {
  "kernelspec": {
   "display_name": "Python 2",
   "language": "python",
   "name": "python2"
  },
  "language_info": {
   "codemirror_mode": {
    "name": "ipython",
    "version": 2
   },
   "file_extension": ".py",
   "mimetype": "text/x-python",
   "name": "python",
   "nbconvert_exporter": "python",
   "pygments_lexer": "ipython2",
   "version": "2.7.14"
  }
 },
 "nbformat": 4,
 "nbformat_minor": 2
}
