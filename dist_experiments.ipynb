{
 "cells": [
  {
   "cell_type": "code",
   "execution_count": 20,
   "metadata": {},
   "outputs": [],
   "source": [
    "from graph_converter.converter import Converter"
   ]
  },
  {
   "cell_type": "code",
   "execution_count": 21,
   "metadata": {},
   "outputs": [],
   "source": [
    "## changing relational data to graph structure\n",
    "\n",
    "# input locations\n",
    "data_file = 'data/inputs/hospital_dataset.csv'\n",
    "fd_file = 'data/constraints/hospital_constraints.txt'\n",
    "\n",
    "# output locations\n",
    "edges_file = 'data/edges/hospital.edges'\n",
    "map_file = 'data/maps/hospital.map'\n",
    "\n",
    "converter = Converter()\n",
    "\n",
    "converter.save_graph(data_file, fd_file, edges_file, map_file)\n",
    "\n",
    "# maps (value, attr) pairs to integer values. need ints in the embedding to distinguish between identical values in different columns\n",
    "graph_map = converter.get_map()"
   ]
  },
  {
   "cell_type": "code",
   "execution_count": 22,
   "metadata": {},
   "outputs": [],
   "source": [
    "import numpy as np\n",
    "import pandas as pd\n",
    "\n",
    "data = pd.read_csv(data_file)"
   ]
  },
  {
   "cell_type": "code",
   "execution_count": 23,
   "metadata": {},
   "outputs": [],
   "source": [
    "import random\n",
    "from distances.distances import HypDistance\n",
    "\n",
    "NUM_SAMPLES = 50000\n",
    "\n",
    "hyp_dist = HypDistance('hospital.r3.emb', graph_map)\n",
    "cols = range(data.shape[1])\n",
    "\n",
    "changes = list()\n",
    "distances = list()\n",
    "for i in range(NUM_SAMPLES):\n",
    "    num_changes = random.randint(1, data.shape[1])\n",
    "    change_cols = random.sample(cols, num_changes)\n",
    "    \n",
    "    tup = data.sample(1).values[0]\n",
    "    \n",
    "    modified_tup = np.copy(tup)\n",
    "    \n",
    "    for change_col in change_cols:\n",
    "        new_val = random.sample(data.iloc[:,change_col].unique(), 1)[0]\n",
    "        modified_tup[change_col] = new_val\n",
    "        \n",
    "    dist = hyp_dist.pair_distance(tup, modified_tup)\n",
    "    \n",
    "    changes.append(num_changes)\n",
    "    distances.append(dist) "
   ]
  },
  {
   "cell_type": "code",
   "execution_count": 24,
   "metadata": {},
   "outputs": [],
   "source": [
    "df = pd.DataFrame(data = {'count': changes, 'distance': distances})"
   ]
  },
  {
   "cell_type": "code",
   "execution_count": 25,
   "metadata": {},
   "outputs": [
    {
     "data": {
      "text/html": [
       "<div>\n",
       "<style scoped>\n",
       "    .dataframe tbody tr th:only-of-type {\n",
       "        vertical-align: middle;\n",
       "    }\n",
       "\n",
       "    .dataframe tbody tr th {\n",
       "        vertical-align: top;\n",
       "    }\n",
       "\n",
       "    .dataframe thead th {\n",
       "        text-align: right;\n",
       "    }\n",
       "</style>\n",
       "<table border=\"1\" class=\"dataframe\">\n",
       "  <thead>\n",
       "    <tr style=\"text-align: right;\">\n",
       "      <th></th>\n",
       "      <th>count</th>\n",
       "      <th>distance</th>\n",
       "    </tr>\n",
       "  </thead>\n",
       "  <tbody>\n",
       "    <tr>\n",
       "      <th>0</th>\n",
       "      <td>7</td>\n",
       "      <td>5.333804</td>\n",
       "    </tr>\n",
       "    <tr>\n",
       "      <th>1</th>\n",
       "      <td>12</td>\n",
       "      <td>12.795169</td>\n",
       "    </tr>\n",
       "    <tr>\n",
       "      <th>2</th>\n",
       "      <td>2</td>\n",
       "      <td>2.440976</td>\n",
       "    </tr>\n",
       "    <tr>\n",
       "      <th>3</th>\n",
       "      <td>1</td>\n",
       "      <td>1.167744</td>\n",
       "    </tr>\n",
       "    <tr>\n",
       "      <th>4</th>\n",
       "      <td>7</td>\n",
       "      <td>5.956419</td>\n",
       "    </tr>\n",
       "  </tbody>\n",
       "</table>\n",
       "</div>"
      ],
      "text/plain": [
       "   count   distance\n",
       "0      7   5.333804\n",
       "1     12  12.795169\n",
       "2      2   2.440976\n",
       "3      1   1.167744\n",
       "4      7   5.956419"
      ]
     },
     "execution_count": 25,
     "metadata": {},
     "output_type": "execute_result"
    }
   ],
   "source": [
    "df.head()"
   ]
  },
  {
   "cell_type": "code",
   "execution_count": null,
   "metadata": {},
   "outputs": [],
   "source": []
  }
 ],
 "metadata": {
  "kernelspec": {
   "display_name": "Python 2",
   "language": "python",
   "name": "python2"
  },
  "language_info": {
   "codemirror_mode": {
    "name": "ipython",
    "version": 2
   },
   "file_extension": ".py",
   "mimetype": "text/x-python",
   "name": "python",
   "nbconvert_exporter": "python",
   "pygments_lexer": "ipython2",
   "version": "2.7.14"
  }
 },
 "nbformat": 4,
 "nbformat_minor": 2
}
